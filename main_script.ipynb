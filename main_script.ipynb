{
 "cells": [
  {
   "cell_type": "markdown",
   "metadata": {},
   "source": [
    "### This notebook analyses a corpus containing twelve speeches by each of President's Bush and Obama. It begins  with some exploration of word frequencies and a simple model to detect who is speaking, then compares two methods for Topic Detection."
   ]
  },
  {
   "cell_type": "markdown",
   "metadata": {},
   "source": [
    "Some initial notation: <br>\n",
    "D - number of documents in corpus<br>\n",
    "N - number of words in vocabulary"
   ]
  },
  {
   "cell_type": "code",
   "execution_count": 47,
   "metadata": {},
   "outputs": [],
   "source": [
    "import os\n",
    "import copy\n",
    "import numpy as np\n",
    "import matplotlib.pyplot as plt\n",
    "import tqdm.notebook as tqdm\n",
    "from sklearn.feature_extraction.text import CountVectorizer, TfidfTransformer\n",
    "from sklearn.decomposition import LatentDirichletAllocation, NMF\n",
    "from sklearn.preprocessing import normalize\n",
    "from stop_words import stop_words\n",
    "from IPython.display import Image\n",
    "from sparklines import sparklines"
   ]
  },
  {
   "cell_type": "code",
   "execution_count": 2,
   "metadata": {},
   "outputs": [],
   "source": [
    "# get the files into order and make a list to feed to the sklearn Vectorizer\n",
    "sorted_files = {'Bush': [], 'Obama': []}\n",
    "dir_path = os.getcwd()\n",
    "files = os.listdir(os.path.join(dir_path, 'data'))\n",
    "for file in files:\n",
    "    for president in sorted_files.keys():\n",
    "        if president in file:\n",
    "            sorted_files[president].append(os.path.join(dir_path, 'data', file))\n",
    "            continue\n",
    "\n",
    "overall_list = sorted(sorted_files['Bush']) + sorted(sorted_files['Obama'])"
   ]
  },
  {
   "cell_type": "code",
   "execution_count": null,
   "metadata": {},
   "outputs": [],
   "source": [
    "# stop words contains a list of common uninformative words (from NLTK), lets add some more, relevant to this corpus\n",
    "\n",
    "stop_words += ['president', 'thank', 'america', 'americans', 'american', 'applause', 'laughter', 'laura', 'nation',\n",
    "               'nations', 'congress', 'country', 'world', 'know', 'people', 'get', 'got', 'going', 'united', 'states',\n",
    "               'must', 'us', 'would', 'every', 'also', 'one', 'like', 'make', 'met', 'told', 'want', 'believe',\n",
    "               'government', 'tonight', 'let', 'said', 'year', 'years', 'new', 'last', 'even']"
   ]
  },
  {
   "cell_type": "code",
   "execution_count": 3,
   "metadata": {},
   "outputs": [
    {
     "name": "stdout",
     "output_type": "stream",
     "text": [
      "Corpus vocab length: 7561\n"
     ]
    }
   ],
   "source": [
    "# Now lets initialise an object from sklearn which will convert our corpus into a DxN count matrix\n",
    "# The token pattern sed will ignore numbers and other non text characters\n",
    "# We will start just looking at unigrams\n",
    "\n",
    "vectorizer_params = {'input': 'filename', 'lowercase': True, 'stop_words': stop_words,\n",
    "                     'token_pattern': r'(?u)\\b[a-zA-Z][a-zA-Z]+\\b', 'ngram_range': (1,1)}\n",
    "\n",
    "\n",
    "def fit_vectorizer(vectorizer_params, reduced_vocab=None):\n",
    "    vectorizer = CountVectorizer(**vectorizer_params)\n",
    "\n",
    "    # first call the fit method on the entire corpus to set the vocabulary\n",
    "    vectorizer.fit(overall_list)\n",
    "\n",
    "    # create a dictionary to return words from indices\n",
    "    vocabulary = {idx: key for key, idx in vectorizer.vocabulary_.items()}\n",
    "    print('Corpus vocab length: {}'.format(len(vocabulary)))\n",
    "    \n",
    "    if reduced_vocab is not None:\n",
    "        \n",
    "        new_vocab = {}\n",
    "        idx = 0\n",
    "        for k, v in vectorizer.vocabulary_.items():\n",
    "            if v in reduced_vocab.tolist():\n",
    "                new_vocab[k] = idx\n",
    "                idx += 1\n",
    "                \n",
    "        new_params = copy.deepcopy(vectorizer_params)\n",
    "        new_params['vocabulary'] = new_vocab\n",
    "        vectorizer = CountVectorizer(**new_params)\n",
    "        vectorizer.fit(overall_list)\n",
    "        vocabulary = {idx: key for key, idx in vectorizer.vocabulary_.items()}\n",
    "        print('Reduced vocab length: {}'.format(len(vocabulary)))\n",
    "           \n",
    "    return vectorizer, vocabulary\n",
    "    \n",
    "\n",
    "vectorizer, vocabulary = fit_vectorizer(vectorizer_params)"
   ]
  },
  {
   "cell_type": "code",
   "execution_count": 6,
   "metadata": {},
   "outputs": [
    {
     "name": "stdout",
     "output_type": "stream",
     "text": [
      "indexing...\n",
      "indexing complete\n"
     ]
    }
   ],
   "source": [
    "# Create some statistics we will use for the analysis\n",
    "\n",
    "\n",
    "def transform_rank(vectorizer, leave_out:int=None, bush_docs = 12):\n",
    "    \n",
    "    # can use this later to leave one document out (to test)\n",
    "    document_list = copy.deepcopy(overall_list)\n",
    "    if leave_out is not None:\n",
    "        test_doc = [document_list.pop(leave_out)]\n",
    "        print(test_doc)\n",
    "        test_ngram = vectorizer.transform(test_doc)\n",
    "    else:\n",
    "        test_ngram = None\n",
    "        \n",
    "    # now transform the corpus to DxN count matrices\n",
    "    overall_ngrams = vectorizer.transform(document_list)\n",
    "    num_docs, num_words = overall_ngrams.shape\n",
    "\n",
    "    bush_ngrams = vectorizer.transform(document_list[:bush_docs])\n",
    "    obama_ngrams = vectorizer.transform(document_list[bush_docs:])\n",
    "\n",
    "    # create n-gram rankings for words in vocab for each president\n",
    "    bush_totals = np.array(bush_ngrams.sum(axis=0))\n",
    "    bush_ranks = np.argsort(bush_totals)[0, :].tolist()\n",
    "    obama_totals = np.array(obama_ngrams.sum(axis=0))\n",
    "    obama_ranks = np.argsort(obama_totals)[0, :].tolist()\n",
    "\n",
    "    # index the ranks to words to avoid repeating searches\n",
    "    print('indexing...')\n",
    "    bush_ranks_indices = {w: bush_ranks.index(w) for w in range(num_words)}\n",
    "    obama_ranks_indices = {w: obama_ranks.index(w) for w in range(num_words)}\n",
    "    print('indexing complete')\n",
    "    \n",
    "    return overall_ngrams, bush_totals, obama_totals, bush_ranks, obama_ranks, bush_ranks_indices, \\\n",
    "           obama_ranks_indices, test_ngram\n",
    "\n",
    "\n",
    "overall_ngrams, bush_totals, obama_totals, bush_ranks, obama_ranks, bush_ranks_indices, obama_ranks_indices \\\n",
    ", test_ngram = transform_rank(vectorizer)"
   ]
  },
  {
   "cell_type": "markdown",
   "metadata": {},
   "source": [
    "## Exploration\n",
    "\n",
    "*First, we can do some very basic analysis with these unigram counts*"
   ]
  },
  {
   "cell_type": "code",
   "execution_count": 7,
   "metadata": {},
   "outputs": [
    {
     "name": "stdout",
     "output_type": "stream",
     "text": [
      "Bush top words: {'terrorists': 83, 'work': 84, 'time': 87, 'good': 89, 'great': 95, 'health': 104, 'help': 119, 'security': 122, 'iraq': 125, 'freedom': 151}\n",
      "Obama top words: {'take': 82, 'job': 82, 'energy': 87, 'economy': 92, 'help': 104, 'right': 111, 'need': 123, 'time': 153, 'jobs': 163, 'work': 174}\n"
     ]
    }
   ],
   "source": [
    "# lets have a look at the top ten most frequent words used by each speaker\n",
    "\n",
    "\n",
    "def top_words():\n",
    "    bush_top_words = {vocabulary[idx]: bush_totals[0, idx] for idx in bush_ranks[-10:]}\n",
    "    obama_top_words = {vocabulary[idx]: obama_totals[0, idx] for idx in obama_ranks[-10:]}\n",
    "\n",
    "    print('Bush top words: {}'.format(bush_top_words))\n",
    "    print('Obama top words: {}'.format(obama_top_words))\n",
    "    \n",
    "    return bush_top_words, obama_top_words\n",
    "\n",
    "\n",
    "bush_top_words, obama_top_words = top_words()"
   ]
  },
  {
   "cell_type": "markdown",
   "metadata": {},
   "source": [
    "*Unsurprisingly, Bush talks a lot about terrorists, Iraq, freedom & security; he also likes to say good & great.*\n",
    "\n",
    "*Obama seems more focussed on jobs, energy and the economy as well and likes to say need & right.*\n",
    "\n",
    "*It would be interesting to plot how consistently the top words rank across documents.*"
   ]
  },
  {
   "cell_type": "code",
   "execution_count": 8,
   "metadata": {},
   "outputs": [
    {
     "data": {
      "application/vnd.jupyter.widget-view+json": {
       "model_id": "3cb05869dc8f45bd92e0921b54c5e71e",
       "version_major": 2,
       "version_minor": 0
      },
      "text/plain": [
       "HBox(children=(IntProgress(value=0, max=24), HTML(value='')))"
      ]
     },
     "metadata": {},
     "output_type": "display_data"
    },
    {
     "name": "stdout",
     "output_type": "stream",
     "text": [
      "\n"
     ]
    }
   ],
   "source": [
    "bush_comp = []\n",
    "obama_comp = []\n",
    "\n",
    "num_docs, num_words = overall_ngrams.shape\n",
    "\n",
    "for document_num in tqdm.tnrange(num_docs):\n",
    "    document_ranks = np.argsort(np.array(overall_ngrams[document_num, :].sum(axis=0)))[0, :].tolist()\n",
    "\n",
    "    # index the ranks to words to avoid repeating searches\n",
    "    document_ranks_indices = {w: document_ranks.index(w) for w in range(num_words)}\n",
    "\n",
    "    true_class = document_num < 12\n",
    "    if true_class == 1:\n",
    "        bush_comp.append([len(vocabulary) - document_ranks_indices[r] for r in bush_ranks[-10:]])\n",
    "    else:\n",
    "        obama_comp.append([len(vocabulary) - document_ranks_indices[r] for r in obama_ranks[-10:]])"
   ]
  },
  {
   "cell_type": "code",
   "execution_count": 9,
   "metadata": {},
   "outputs": [
    {
     "data": {
      "image/png": "[encoded data removed]",
      "text/plain": [
       "<Figure size 432x288 with 1 Axes>"
      ]
     },
     "metadata": {
      "needs_background": "light"
     },
     "output_type": "display_data"
    },
    {
     "data": {
      "image/png": "[encoded data removed]",
      "text/plain": [
       "<Figure size 432x288 with 1 Axes>"
      ]
     },
     "metadata": {
      "needs_background": "light"
     },
     "output_type": "display_data"
    }
   ],
   "source": [
    "def plot_ranks(num_words, bush_comp, obama_comp):\n",
    "    plt.figure(1)\n",
    "    plt.xlabel('document')\n",
    "    plt.ylabel('rank')\n",
    "    plt.yscale('log')\n",
    "    plt.title('Bush')\n",
    "    bush_comp = np.array(bush_comp)\n",
    "    for word in range(num_words):\n",
    "        plt.plot(range(bush_comp.shape[0]), bush_comp[:, -(word+1)], label=list(bush_top_words.keys())[-(word+1)])\n",
    "\n",
    "    plt.legend(loc=3)\n",
    "    plt.gca().invert_yaxis()\n",
    "    plt.show()\n",
    "\n",
    "    plt.figure(2)\n",
    "    plt.xlabel('document')\n",
    "    plt.ylabel('rank')\n",
    "    plt.yscale('log')\n",
    "    plt.title('Obama')\n",
    "    obama_comp = np.array(obama_comp)\n",
    "    for word in range(num_words):\n",
    "        plt.plot(range(obama_comp.shape[0]), obama_comp[:, -(word+1)], label=list(obama_top_words.keys())[-(word+1)])\n",
    "\n",
    "    plt.legend(loc=3)\n",
    "    plt.gca().invert_yaxis()\n",
    "    plt.show()\n",
    "    \n",
    "\n",
    "num_words = 5\n",
    "plot_ranks(num_words, bush_comp, obama_comp) \n",
    "\n",
    "# Note: we've got a log scale"
   ]
  },
  {
   "cell_type": "markdown",
   "metadata": {},
   "source": [
    "*Obama is quite consistent in his use of the word 'time', whereas Bush is most consistent with 'Freedom'*"
   ]
  },
  {
   "cell_type": "markdown",
   "metadata": {},
   "source": [
    "*Perhaps we can predict who is speaking just from this.*\n",
    "\n",
    "*We'll try, using the 'Out of place' distance measure, which is the average difference in word rank between a document and a reference point (say, the average for Bush or Obama across all speeches, excluding the one being classified).*\n",
    "\n",
    "*This will require searching through a long list of words many times, we can speed it up by indexing the lists into a dictionaries (already done above), but perhaps we can better narrow down the list first.*\n",
    "\n",
    "*tf-idf is a common way to discover important words in documents, the term frequency in a document is multiplied by the inverse document frequency (how often the word appears in documents in the corpus). We can then sum these word importances across all documents and pick the ones that score highest overall.*\n",
    "\n",
    "*We can use the sklearn transformer object to do this.*"
   ]
  },
  {
   "cell_type": "code",
   "execution_count": 10,
   "metadata": {},
   "outputs": [
    {
     "name": "stdout",
     "output_type": "stream",
     "text": [
      "Corpus vocab length: 7561\n",
      "Reduced vocab length: 1000\n"
     ]
    }
   ],
   "source": [
    "transformer = TfidfTransformer(norm='l2', use_idf=True, smooth_idf=True, sublinear_tf=True)\n",
    "\n",
    "\n",
    "def reduce_vocab(overall_ngrams, num_words):\n",
    "    overall_tfidf = transformer.fit_transform(overall_ngrams)\n",
    "    totals = np.array(overall_tfidf.sum(axis=0))\n",
    "\n",
    "    # selecting the indices of the thousand most important ngrams\n",
    "    reduced_vocab = np.argsort(totals)[0, -num_words:]\n",
    "    vectorizer, vocabulary = fit_vectorizer(vectorizer_params, reduced_vocab)\n",
    "    \n",
    "    return vectorizer, vocabulary\n",
    "\n",
    "\n",
    "overall_ngrams = vectorizer.transform(overall_list)\n",
    "vectorizer, vocabulary = reduce_vocab(overall_ngrams, 1000)"
   ]
  },
  {
   "cell_type": "markdown",
   "metadata": {},
   "source": [
    "The particular variant of tf-idf used here is: \n",
    "$$ (log(f_{t,d}) + 1).(log(\\frac{1+D}{1+n_{t}}) + 1) $$\n",
    "Where: <br>\n",
    "$f_{t,d}$ is the count of the word in the document, here taking the log since the difference between very large numbers should intuitively have less impact than the same difference between small numbers.<br>\n",
    "$D$ is the number of documents in the corpus<br>\n",
    "$n_{t}$ is the count of the documents which contain the word\n",
    "\n",
    "The ones are added throughout to smooth the function i.e avoid division and multiplication by zero."
   ]
  },
  {
   "cell_type": "markdown",
   "metadata": {},
   "source": [
    "The following function will loop through each speech, constructing the statistics from all the remaining speeches (i.e. Leave-One-Out cross validation) then attempting to classify the held out speech using the out-of-place distance."
   ]
  },
  {
   "cell_type": "code",
   "execution_count": 11,
   "metadata": {},
   "outputs": [
    {
     "name": "stdout",
     "output_type": "stream",
     "text": [
      "comparing document ranks\n"
     ]
    },
    {
     "data": {
      "application/vnd.jupyter.widget-view+json": {
       "model_id": "5bb6e0640ee545d4ba787a0a51f1c2c0",
       "version_major": 2,
       "version_minor": 0
      },
      "text/plain": [
       "HBox(children=(IntProgress(value=0, max=24), HTML(value='')))"
      ]
     },
     "metadata": {},
     "output_type": "display_data"
    },
    {
     "name": "stdout",
     "output_type": "stream",
     "text": [
      "testing document 0\n",
      "['/Users/graeme/presidents/data/Bush_1.txt']\n",
      "indexing...\n",
      "indexing complete\n",
      "testing document 1\n",
      "['/Users/graeme/presidents/data/Bush_10.txt']\n",
      "indexing...\n",
      "indexing complete\n",
      "testing document 2\n",
      "['/Users/graeme/presidents/data/Bush_11.txt']\n",
      "indexing...\n",
      "indexing complete\n",
      "testing document 3\n",
      "['/Users/graeme/presidents/data/Bush_12.txt']\n",
      "indexing...\n",
      "indexing complete\n",
      "testing document 4\n",
      "['/Users/graeme/presidents/data/Bush_2.txt']\n",
      "indexing...\n",
      "indexing complete\n",
      "testing document 5\n",
      "['/Users/graeme/presidents/data/Bush_3.txt']\n",
      "indexing...\n",
      "indexing complete\n",
      "testing document 6\n",
      "['/Users/graeme/presidents/data/Bush_4.txt']\n",
      "indexing...\n",
      "indexing complete\n",
      "testing document 7\n",
      "['/Users/graeme/presidents/data/Bush_5.txt']\n",
      "indexing...\n",
      "indexing complete\n",
      "testing document 8\n",
      "['/Users/graeme/presidents/data/Bush_6.txt']\n",
      "indexing...\n",
      "indexing complete\n",
      "testing document 9\n",
      "['/Users/graeme/presidents/data/Bush_7.txt']\n",
      "indexing...\n",
      "indexing complete\n",
      "testing document 10\n",
      "['/Users/graeme/presidents/data/Bush_8.txt']\n",
      "indexing...\n",
      "indexing complete\n",
      "testing document 11\n",
      "['/Users/graeme/presidents/data/Bush_9.txt']\n",
      "indexing...\n",
      "indexing complete\n",
      "testing document 12\n",
      "['/Users/graeme/presidents/data/Obama_1.txt']\n",
      "indexing...\n",
      "indexing complete\n",
      "testing document 13\n",
      "['/Users/graeme/presidents/data/Obama_10.txt']\n",
      "indexing...\n",
      "indexing complete\n",
      "testing document 14\n",
      "['/Users/graeme/presidents/data/Obama_11.txt']\n",
      "indexing...\n",
      "indexing complete\n",
      "testing document 15\n",
      "['/Users/graeme/presidents/data/Obama_12.txt']\n",
      "indexing...\n",
      "indexing complete\n",
      "testing document 16\n",
      "['/Users/graeme/presidents/data/Obama_2.txt']\n",
      "indexing...\n",
      "indexing complete\n",
      "testing document 17\n",
      "['/Users/graeme/presidents/data/Obama_3.txt']\n",
      "indexing...\n",
      "indexing complete\n",
      "testing document 18\n",
      "['/Users/graeme/presidents/data/Obama_4.txt']\n",
      "indexing...\n",
      "indexing complete\n",
      "testing document 19\n",
      "['/Users/graeme/presidents/data/Obama_5.txt']\n",
      "indexing...\n",
      "indexing complete\n",
      "testing document 20\n",
      "['/Users/graeme/presidents/data/Obama_6.txt']\n",
      "indexing...\n",
      "indexing complete\n",
      "testing document 21\n",
      "['/Users/graeme/presidents/data/Obama_7.txt']\n",
      "indexing...\n",
      "indexing complete\n",
      "testing document 22\n",
      "['/Users/graeme/presidents/data/Obama_8.txt']\n",
      "indexing...\n",
      "indexing complete\n",
      "testing document 23\n",
      "['/Users/graeme/presidents/data/Obama_9.txt']\n",
      "indexing...\n",
      "indexing complete\n",
      "\n",
      "Scores: [True, True, True, True, True, True, True, True, False, True, True, True, True, True, True, True, True, True, True, True, False, True, True, True]\n",
      "Accuracy 0.9166666666666666\n"
     ]
    }
   ],
   "source": [
    "def analyse_ngrams(vectorizer, num_docs):\n",
    "    scores = []\n",
    "    \n",
    "    print('comparing document ranks')\n",
    "    for document_num in tqdm.tnrange(num_docs):\n",
    "        bush_docs = 12 - (document_num < 12)\n",
    "        print('testing document {}'.format(document_num))\n",
    "        overall_ngrams, bush_totals, obama_totals, bush_ranks, obama_ranks, bush_ranks_indices, obama_ranks_indices \\\n",
    "        , test_ngram = transform_rank(vectorizer, document_num, bush_docs)\n",
    "        \n",
    "        num_docs, num_words = overall_ngrams.shape\n",
    "        document_ranks = np.argsort(np.array(test_ngram.sum(axis=0)))[0, :].tolist()\n",
    "\n",
    "        # index the ranks to words to avoid repeating searches\n",
    "        document_ranks_indices = {w: document_ranks.index(w) for w in range(num_words)}\n",
    "\n",
    "        mean_diff_bush = np.mean(np.abs(np.array([document_ranks_indices[w]\n",
    "                                                  - bush_ranks_indices[w] for w in range(num_words)])))\n",
    "        mean_diff_obama = np.mean(np.abs(np.array([document_ranks_indices[w]\n",
    "                                                   - obama_ranks_indices[w] for w in range(num_words)])))\n",
    "\n",
    "        true_class = document_num < 12\n",
    "        predicted_class = mean_diff_bush < mean_diff_obama\n",
    "        score = true_class == predicted_class\n",
    "        scores.append(score)\n",
    "    \n",
    "    return scores\n",
    "            \n",
    "scores = analyse_ngrams(vectorizer, num_docs)\n",
    "print('Scores: {}'.format(scores))\n",
    "print('Accuracy {}'.format(np.mean(np.array(scores))))"
   ]
  },
  {
   "cell_type": "markdown",
   "metadata": {},
   "source": [
    "*So we can get 92% accuracy classifying a speech to each president, just using word ranks*\n",
    "\n",
    "*The failures come in speeches where Bush discusses African development and Obama discusses security issues. Perhaps we could make some improvement by using bigrams or by constructing a transition probability matrix and using a Markov chain to model the probability of observations.*\n",
    "\n",
    "*It's probably more interesting to try a harder task though, so I'll move on to unsupervised topic modelling.*"
   ]
  },
  {
   "attachments": {},
   "cell_type": "markdown",
   "metadata": {},
   "source": [
    "## Topic Modelling\n",
    "\n",
    "Lets try to do some topic modelling. I'd like to compare two popular methods, Non-Negative Matrix Factorisation (NMF) and Latent Dirichlet Allocation (LDA).\n",
    "\n",
    "### NMF Background\n",
    "NMF is a fairly simple concept. The DxN matrix of word counts is factorised into a DxK matrix of document topic weights and a KxN matrix of topic word weights, i.e. we are finding a latent dimension of length K which represents underying topics. \n",
    "\n",
    "$$ X_{dn} = U_{dk}V_{kn}$$\n",
    "\n",
    "The elements of U and V are restricted to be non-negative and, as such, each document is an additive mixture of underlying topics. This is similar to Principal Components Analysis (PCA), however has the advantage that the components are not restricted to be orthogonal as well as to be non-negative (which fits the underlying problem better).\n",
    "\n",
    "U and V can be found using various efficient numerical optimisation techniques, minimising either $||X-UV||$ (the Euclidean distance) or $D(X||UV)$. Where for the latter, in the case that the elements of X and UV sum to one (i.e. form probability distributions), $D$ is the Kullback–Leibler Divergence, or relative entropy. Either objective can be implemented with provably monotonic convergence (Lee & Seung, 'Algorithms for Non-negative Matrix Factorization' NIPS 2000), though not necessarily to a global minimum since the loss is non-convex.\n",
    "\n",
    "The sklearn package provides some choices for weight initialisation which affect the solution (since many solutions are likely possible). I've chosen Nonnegative Double Singular Value Decomposition with zeros filled with the average, which should discourage sparsity and speed up learning. "
   ]
  },
  {
   "cell_type": "code",
   "execution_count": 46,
   "metadata": {},
   "outputs": [
    {
     "data": {
      "image/png": "[encoded data removed]",
      "text/plain": [
       "<IPython.core.display.Image object>"
      ]
     },
     "execution_count": 46,
     "metadata": {},
     "output_type": "execute_result"
    }
   ],
   "source": [
    "# LDA graphical model from https://scikit-learn.org/stable/modules/decomposition.html#latentdirichletallocation]\n",
    "Image('LDA.png')"
   ]
  },
  {
   "cell_type": "markdown",
   "metadata": {},
   "source": [
    "## LDA Background\n",
    "Latent Dirichlet Allocation is a generative model and can be thought of as a special case of the NMF factorisation, where the probability of word n being found in document d is given by:\n",
    "$$P(w_{dn}) = \\sum_{k}\\theta_{dk}\\beta_{kn}$$\n",
    "\n",
    "In its expanded form (see graphical model above), each word $w_{d,n}$ is drawn from a Multinomial distribution parametrised by one of the rows of $\\beta$ (i.e. the distribution of words over a topic). Since the Dirichlet distribution is the conjugate prior of the Multinomial, that is chosen to generate $\\beta_{k}$, which itself is parameterised by $\\eta_{w}$. \n",
    "\n",
    "Likewise the choice of topic ($z_{d,n}$) is drawn from a Multinomial distribution, parametrised by the Dirichlet distributed $\\theta_{d}$ (one of the columns of $\\theta$ above), which itself is parameterised by $\\alpha_{k}$.\n",
    "\n",
    "It is possible to get an intuitive idea for the parameters $\\alpha_{k}$ and $\\eta_{w}$ by reparameterising the joint distribution in terms of the document and topic word counts $A_{d,k}$ and $B_{k,w}$.\n",
    "$$p(w,z,\\theta,\\beta|\\alpha,\\eta) = \\left(\\prod_{d} \\frac{1}{\\rm B(\\vec{\\alpha})} \\prod_{k} \\theta_{d,k}^{\\alpha + A_{d,k}-1}\\right)\\left(\\prod_{k} \\frac{1}{\\rm B(\\vec{\\eta})} \\prod_{w} \\beta_{k,w}^{\\eta + B_{k,w}-1}\\right)$$\n",
    "\n",
    "Where $\\rm B(...)$ is the multivariate Beta function and we assume the elements of $\\vec{\\alpha}$ and $\\vec{\\eta}$ are a single constant. So increasing $\\alpha$ is equivelent to adding to the count of a topic across all documents and increasing $\\eta$ is equivelent to adding to the count of a word across all topics.\n",
    "\n",
    "Whilst it is intractable to infer the posterior distribution exactly, we can use a variational approximation to reparametarise and optimise towards a lower bound (see Blei, Ng & Jordan, 'Latent Dirichlet Allocation', JMLR 2003). Some other methods have since been proposed, but I've used this one below. "
   ]
  },
  {
   "cell_type": "code",
   "execution_count": 15,
   "metadata": {},
   "outputs": [
    {
     "name": "stdout",
     "output_type": "stream",
     "text": [
      "Corpus vocab length: 7561\n"
     ]
    }
   ],
   "source": [
    "# Both of these methods are quite fast so we can reset the vectorizer to include the full vocabulary\n",
    "\n",
    "vectorizer, vocabulary = fit_vectorizer(vectorizer_params)\n",
    "overall_ngrams = vectorizer.transform(overall_list)"
   ]
  },
  {
   "cell_type": "code",
   "execution_count": 38,
   "metadata": {},
   "outputs": [
    {
     "name": "stdout",
     "output_type": "stream",
     "text": [
      "Epoch 10 reached after 0.083 seconds, error: 239.988014\n",
      "Epoch 20 reached after 0.148 seconds, error: 232.853129\n",
      "Epoch 30 reached after 0.208 seconds, error: 230.778621\n",
      "Epoch 40 reached after 0.268 seconds, error: 230.163432\n",
      "Epoch 50 reached after 0.331 seconds, error: 229.875758\n",
      "Epoch 60 reached after 0.391 seconds, error: 229.718804\n",
      "Epoch 70 reached after 0.452 seconds, error: 229.711393\n"
     ]
    }
   ],
   "source": [
    "# NNMF \n",
    "nnmf_model = NMF(n_components=8, init='nndsvda', solver='mu', beta_loss='kullback-leibler',\n",
    "                 tol=0.0001, max_iter=200, random_state=0, verbose=True)\n",
    "doc_topic_matrix = nnmf_model.fit_transform(overall_ngrams)\n",
    "topic_word_matrix = nnmf_model.components_"
   ]
  },
  {
   "cell_type": "code",
   "execution_count": 56,
   "metadata": {},
   "outputs": [
    {
     "name": "stdout",
     "output_type": "stream",
     "text": [
      "Top 10 words per topic:\n",
      "0\n",
      "['economy', 'businesses', 'tax', 'energy', 'right', 'need', 'time', 'help', 'work', 'jobs']\n",
      "1\n",
      "['health', 'children', 'good', 'economy', 'terror', 'help', 'terrorists', 'iraq', 'freedom', 'security']\n",
      "2\n",
      "['iraq', 'security', 'plan', 'help', 'freedom', 'great', 'care', 'time', 'four', 'health']\n",
      "3\n",
      "['clear', 'political', 'strategy', 'forces', 'military', 'qaeda', 'troops', 'iraqi', 'war', 'iraq']\n",
      "4\n",
      "['help', 'way', 'work', 'malaria', 'school', 'great', 'corruption', 'many', 'kenya', 'africa']\n",
      "5\n",
      "['war', 'could', 'security', 'nuclear', 'saddam', 'hussein', 'many', 'enough', 'threat', 'weapons']\n",
      "6\n",
      "['small', 'economy', 'europe', 'families', 'businesses', 'right', 'time', 'jobs', 'work', 'freedom']\n",
      "7\n",
      "['together', 'economy', 'keep', 'better', 'promise', 'care', 'need', 'change', 'time', 'work']\n"
     ]
    }
   ],
   "source": [
    "# Lets look at the highest weighted words for each topic\n",
    "\n",
    "print('Top 10 words per topic:')\n",
    "for topic in range(topic_word_matrix.shape[0]):\n",
    "    print(topic)\n",
    "    ngram_ranks = np.argsort(topic_word_matrix[topic, :])\n",
    "    print([vocabulary[d] for d in ngram_ranks[-10:]])\n",
    "#     print([vocabulary[d] + str(lda.components_[topic, d])for d in ngram_ranks[-10:]])  # Debugging"
   ]
  },
  {
   "cell_type": "markdown",
   "metadata": {},
   "source": [
    "*There is some overlap between the topics, which may be due to each president's different choice of words for the same topic. Broadly we see topics focussing on either the economy, the war on terror or African development.* "
   ]
  },
  {
   "cell_type": "code",
   "execution_count": 50,
   "metadata": {},
   "outputs": [
    {
     "name": "stdout",
     "output_type": "stream",
     "text": [
      "NMF Topic scores per document:\n",
      "/Users/graeme/presidents/data/Bush_1.txt\n",
      "▁▁█▁▁▁▁▁\n",
      "[1.36215682e-14 2.38031479e-17 1.00000000e+00 1.08522823e-17\n",
      " 8.93154937e-22 2.98207827e-20 2.71864302e-18 1.20345202e-15]\n",
      "/Users/graeme/presidents/data/Bush_10.txt\n",
      "▁█▁▁▁▁▁▁\n",
      "[1.02470507e-04 9.99523940e-01 3.71468684e-04 1.48495853e-09\n",
      " 2.75882066e-13 6.33174539e-09 1.42620270e-06 6.86404641e-07]\n",
      "/Users/graeme/presidents/data/Bush_11.txt\n",
      "▁█▁▁▁▁▁▁\n",
      "[7.19029925e-06 9.99977190e-01 3.69019226e-08 5.36994215e-10\n",
      " 6.51884767e-09 1.73680732e-10 1.52101943e-05 3.65301134e-07]\n",
      "/Users/graeme/presidents/data/Bush_12.txt\n",
      "▁█▁▁▁▁▁▁\n",
      "[1.52735982e-04 9.99847164e-01 1.77905033e-09 4.64375212e-08\n",
      " 1.84846237e-11 7.97321802e-12 1.14200079e-09 5.05913965e-08]\n",
      "/Users/graeme/presidents/data/Bush_2.txt\n",
      "▁▁█▁▁▁▁▁\n",
      "[3.83331682e-09 5.44269622e-08 9.99999942e-01 1.17954520e-14\n",
      " 5.08116945e-17 4.36059187e-14 2.80585991e-12 4.83792912e-11]\n",
      "/Users/graeme/presidents/data/Bush_3.txt\n",
      "▁▁█▁▁▁▁▁\n",
      "[2.28853128e-13 2.48501480e-17 1.00000000e+00 1.26919341e-19\n",
      " 1.00421502e-22 2.85872622e-19 1.39300045e-19 4.10580382e-16]\n",
      "/Users/graeme/presidents/data/Bush_4.txt\n",
      "▁█▁▃▁▁▁▁\n",
      "[6.17704919e-21 7.43355039e-01 7.92440518e-14 2.56644961e-01\n",
      " 2.96533395e-20 1.67479560e-13 7.41741555e-19 4.09815549e-19]\n",
      "/Users/graeme/presidents/data/Bush_5.txt\n",
      "▁▁▁▁▁▁█▁\n",
      "[4.74472349e-23 4.02162681e-10 7.30868888e-16 5.48846355e-13\n",
      " 1.20366021e-21 4.19747635e-19 1.00000000e+00 1.22777321e-21]\n",
      "/Users/graeme/presidents/data/Bush_6.txt\n",
      "▁▁▁▁█▁▁▁\n",
      "[7.19646699e-22 3.96472038e-26 1.72839652e-20 5.81314132e-31\n",
      " 1.00000000e+00 2.40062259e-28 7.30832456e-27 4.02869193e-23]\n",
      "/Users/graeme/presidents/data/Bush_7.txt\n",
      "▁█▁▁▁▁▁▁\n",
      "[3.32643222e-04 9.99651570e-01 2.32153127e-06 1.34250439e-09\n",
      " 4.06261314e-09 1.34036824e-05 2.27803344e-08 3.35437682e-08]\n",
      "/Users/graeme/presidents/data/Bush_8.txt\n",
      "▁▁▁▁▁█▁▁\n",
      "[3.78140306e-13 2.56548187e-09 4.58079640e-13 1.65720396e-16\n",
      " 1.27191037e-22 9.99999997e-01 4.61986292e-17 1.92217992e-18]\n",
      "/Users/graeme/presidents/data/Bush_9.txt\n",
      "▁█▁▁▁▁▁▁\n",
      "[1.07349756e-02 9.89169126e-01 9.34684344e-05 1.48249751e-09\n",
      " 5.47431802e-14 2.36187434e-06 3.07106820e-08 3.55263413e-08]\n",
      "/Users/graeme/presidents/data/Obama_1.txt\n",
      "▁▁▁▁▁▁▁█\n",
      "[1.45126975e-08 9.09971867e-11 1.85602392e-08 1.13454504e-07\n",
      " 4.30670847e-14 7.24278225e-03 1.55959496e-11 9.92757071e-01]\n",
      "/Users/graeme/presidents/data/Obama_10.txt\n",
      "█▁▁▁▁▁▁▁\n",
      "[1.00000000e+00 8.70330573e-11 3.64582359e-11 4.11524898e-14\n",
      " 2.27961685e-14 5.80945916e-12 4.53940705e-11 1.12903123e-10]\n",
      "/Users/graeme/presidents/data/Obama_11.txt\n",
      "█▁▁▁▁▁▁▁\n",
      "[9.99997359e-01 3.98537706e-10 6.55831655e-08 3.54714440e-12\n",
      " 1.05930265e-15 3.70830935e-12 5.29025695e-10 2.57418525e-06]\n",
      "/Users/graeme/presidents/data/Obama_12.txt\n",
      "▁▁▁▁▁▁▁█\n",
      "[5.32961109e-08 1.28821470e-12 3.21117978e-13 9.19173209e-15\n",
      " 1.91144690e-15 2.62978299e-16 3.35206200e-13 9.99999947e-01]\n",
      "/Users/graeme/presidents/data/Obama_2.txt\n",
      "▁▁▁▁▁▁▁█\n",
      "[9.60383189e-10 3.08809714e-16 2.01652566e-09 6.25974418e-15\n",
      " 4.65456944e-20 1.06347415e-19 4.54243730e-13 9.99999997e-01]\n",
      "/Users/graeme/presidents/data/Obama_3.txt\n",
      "▁▁▁▁▁█▁█\n",
      "[4.09117105e-07 9.72016400e-18 2.77159783e-08 6.83970910e-17\n",
      " 7.60397475e-10 5.00630021e-01 1.71387526e-10 4.99369541e-01]\n",
      "/Users/graeme/presidents/data/Obama_4.txt\n",
      "▁▁▁▁█▁▁▁\n",
      "[1.90664367e-14 5.78955621e-19 1.85086830e-17 2.78579524e-16\n",
      " 1.00000000e+00 1.38747230e-18 3.68344588e-14 5.59515107e-12]\n",
      "/Users/graeme/presidents/data/Obama_5.txt\n",
      "▁▁▁█▁▁▁▁\n",
      "[1.85667389e-28 3.55236243e-28 5.83070840e-28 1.00000000e+00\n",
      " 8.87463730e-36 7.07134608e-30 4.23779059e-30 1.64027969e-28]\n",
      "/Users/graeme/presidents/data/Obama_6.txt\n",
      "▁▁▁▁▁█▁▁\n",
      "[1.81038837e-19 8.55318953e-25 2.38978825e-23 4.77375298e-15\n",
      " 1.63120021e-23 1.00000000e+00 2.95401070e-23 2.17344122e-19]\n",
      "/Users/graeme/presidents/data/Obama_7.txt\n",
      "▁▁▁▁▁▁█▁\n",
      "[1.00235527e-05 3.58167696e-16 6.48386503e-14 3.92963980e-18\n",
      " 8.56642551e-20 8.25239209e-17 9.99989976e-01 7.81815177e-10]\n",
      "/Users/graeme/presidents/data/Obama_8.txt\n",
      "█▁▁▁▁▁▁▁\n",
      "[9.99999938e-01 1.99969941e-12 3.22847281e-10 1.06206869e-12\n",
      " 2.02392898e-13 7.71436755e-12 9.96674624e-09 5.14079537e-08]\n",
      "/Users/graeme/presidents/data/Obama_9.txt\n",
      "█▁▁▁▁▁▁▁\n",
      "[9.99999520e-01 7.44947540e-13 3.24476704e-12 3.61155565e-13\n",
      " 3.85370445e-17 3.38673505e-16 3.81903911e-07 9.78690262e-08]\n"
     ]
    }
   ],
   "source": [
    "# Now normalising the topic weights for each document to get a percentage weight for each topic per document, \n",
    "# visualised with sparklines\n",
    "\n",
    "doc_topic_norm_weights = normalize(doc_topic_matrix, axis=1, norm='l1')\n",
    "print('NMF Topic scores per document:')\n",
    "for doc in range(doc_topic_norm_weights.shape[0]):\n",
    "    print(overall_list[doc])\n",
    "    for line in sparklines(doc_topic_norm_weights[doc, :]):\n",
    "        print(line)\n",
    "    print(doc_topic_norm_weights[doc, :])\n"
   ]
  },
  {
   "cell_type": "markdown",
   "metadata": {},
   "source": [
    "It's noticable that most documents have a very dominant weighting to just one or two topics. This holds even when reducing the number of topics to force them to be more general.\n",
    "\n",
    "The LDA model gives us more control, through the parameter settings. Below I've set $\\alpha$ (which sklearn refer to as the doc_topic_prior) to 10 since a quick glance through some of the speeches reveals they do jump around through topics quite often. I've set $\\eta$ (or the topic_word_prior) to a low 0.001 to encourage the model to learn more distinct topics.\n",
    "\n",
    "The model output is evaluated every 5 iterations by calculating Perplexity, which is a measure of how well a model predicts a sample, given by $2^{H}$ where $H$ is the entropy (i.e. lower is better). Training is stopped when this improves by less than 0.1."
   ]
  },
  {
   "cell_type": "code",
   "execution_count": 42,
   "metadata": {},
   "outputs": [
    {
     "name": "stdout",
     "output_type": "stream",
     "text": [
      "iteration: 1 of max_iter: 1000\n",
      "iteration: 2 of max_iter: 1000\n",
      "iteration: 3 of max_iter: 1000\n",
      "iteration: 4 of max_iter: 1000\n",
      "iteration: 5 of max_iter: 1000, perplexity: 10825.0525\n",
      "iteration: 6 of max_iter: 1000\n",
      "iteration: 7 of max_iter: 1000\n",
      "iteration: 8 of max_iter: 1000\n",
      "iteration: 9 of max_iter: 1000\n",
      "iteration: 10 of max_iter: 1000, perplexity: 9055.3593\n",
      "iteration: 11 of max_iter: 1000\n",
      "iteration: 12 of max_iter: 1000\n",
      "iteration: 13 of max_iter: 1000\n",
      "iteration: 14 of max_iter: 1000\n",
      "iteration: 15 of max_iter: 1000, perplexity: 8556.1187\n",
      "iteration: 16 of max_iter: 1000\n",
      "iteration: 17 of max_iter: 1000\n",
      "iteration: 18 of max_iter: 1000\n",
      "iteration: 19 of max_iter: 1000\n",
      "iteration: 20 of max_iter: 1000, perplexity: 8283.8820\n",
      "iteration: 21 of max_iter: 1000\n",
      "iteration: 22 of max_iter: 1000\n",
      "iteration: 23 of max_iter: 1000\n",
      "iteration: 24 of max_iter: 1000\n",
      "iteration: 25 of max_iter: 1000, perplexity: 8114.2443\n",
      "iteration: 26 of max_iter: 1000\n",
      "iteration: 27 of max_iter: 1000\n",
      "iteration: 28 of max_iter: 1000\n",
      "iteration: 29 of max_iter: 1000\n",
      "iteration: 30 of max_iter: 1000, perplexity: 7988.0790\n",
      "iteration: 31 of max_iter: 1000\n",
      "iteration: 32 of max_iter: 1000\n",
      "iteration: 33 of max_iter: 1000\n",
      "iteration: 34 of max_iter: 1000\n",
      "iteration: 35 of max_iter: 1000, perplexity: 7908.8337\n",
      "iteration: 36 of max_iter: 1000\n",
      "iteration: 37 of max_iter: 1000\n",
      "iteration: 38 of max_iter: 1000\n",
      "iteration: 39 of max_iter: 1000\n",
      "iteration: 40 of max_iter: 1000, perplexity: 7829.7801\n",
      "iteration: 41 of max_iter: 1000\n",
      "iteration: 42 of max_iter: 1000\n",
      "iteration: 43 of max_iter: 1000\n",
      "iteration: 44 of max_iter: 1000\n",
      "iteration: 45 of max_iter: 1000, perplexity: 7766.3687\n",
      "iteration: 46 of max_iter: 1000\n",
      "iteration: 47 of max_iter: 1000\n",
      "iteration: 48 of max_iter: 1000\n",
      "iteration: 49 of max_iter: 1000\n",
      "iteration: 50 of max_iter: 1000, perplexity: 7716.8124\n",
      "iteration: 51 of max_iter: 1000\n",
      "iteration: 52 of max_iter: 1000\n",
      "iteration: 53 of max_iter: 1000\n",
      "iteration: 54 of max_iter: 1000\n",
      "iteration: 55 of max_iter: 1000, perplexity: 7682.7466\n",
      "iteration: 56 of max_iter: 1000\n",
      "iteration: 57 of max_iter: 1000\n",
      "iteration: 58 of max_iter: 1000\n",
      "iteration: 59 of max_iter: 1000\n",
      "iteration: 60 of max_iter: 1000, perplexity: 7660.4101\n",
      "iteration: 61 of max_iter: 1000\n",
      "iteration: 62 of max_iter: 1000\n",
      "iteration: 63 of max_iter: 1000\n",
      "iteration: 64 of max_iter: 1000\n",
      "iteration: 65 of max_iter: 1000, perplexity: 7640.5529\n",
      "iteration: 66 of max_iter: 1000\n",
      "iteration: 67 of max_iter: 1000\n",
      "iteration: 68 of max_iter: 1000\n",
      "iteration: 69 of max_iter: 1000\n",
      "iteration: 70 of max_iter: 1000, perplexity: 7619.1859\n",
      "iteration: 71 of max_iter: 1000\n",
      "iteration: 72 of max_iter: 1000\n",
      "iteration: 73 of max_iter: 1000\n",
      "iteration: 74 of max_iter: 1000\n",
      "iteration: 75 of max_iter: 1000, perplexity: 7606.6335\n",
      "iteration: 76 of max_iter: 1000\n",
      "iteration: 77 of max_iter: 1000\n",
      "iteration: 78 of max_iter: 1000\n",
      "iteration: 79 of max_iter: 1000\n",
      "iteration: 80 of max_iter: 1000, perplexity: 7586.0933\n",
      "iteration: 81 of max_iter: 1000\n",
      "iteration: 82 of max_iter: 1000\n",
      "iteration: 83 of max_iter: 1000\n",
      "iteration: 84 of max_iter: 1000\n",
      "iteration: 85 of max_iter: 1000, perplexity: 7571.5823\n",
      "iteration: 86 of max_iter: 1000\n",
      "iteration: 87 of max_iter: 1000\n",
      "iteration: 88 of max_iter: 1000\n",
      "iteration: 89 of max_iter: 1000\n",
      "iteration: 90 of max_iter: 1000, perplexity: 7560.0194\n",
      "iteration: 91 of max_iter: 1000\n",
      "iteration: 92 of max_iter: 1000\n",
      "iteration: 93 of max_iter: 1000\n",
      "iteration: 94 of max_iter: 1000\n",
      "iteration: 95 of max_iter: 1000, perplexity: 7549.0420\n",
      "iteration: 96 of max_iter: 1000\n",
      "iteration: 97 of max_iter: 1000\n",
      "iteration: 98 of max_iter: 1000\n",
      "iteration: 99 of max_iter: 1000\n",
      "iteration: 100 of max_iter: 1000, perplexity: 7543.0463\n",
      "iteration: 101 of max_iter: 1000\n",
      "iteration: 102 of max_iter: 1000\n",
      "iteration: 103 of max_iter: 1000\n",
      "iteration: 104 of max_iter: 1000\n",
      "iteration: 105 of max_iter: 1000, perplexity: 7536.3795\n",
      "iteration: 106 of max_iter: 1000\n",
      "iteration: 107 of max_iter: 1000\n",
      "iteration: 108 of max_iter: 1000\n",
      "iteration: 109 of max_iter: 1000\n",
      "iteration: 110 of max_iter: 1000, perplexity: 7526.9267\n",
      "iteration: 111 of max_iter: 1000\n",
      "iteration: 112 of max_iter: 1000\n",
      "iteration: 113 of max_iter: 1000\n",
      "iteration: 114 of max_iter: 1000\n",
      "iteration: 115 of max_iter: 1000, perplexity: 7520.7446\n",
      "iteration: 116 of max_iter: 1000\n",
      "iteration: 117 of max_iter: 1000\n",
      "iteration: 118 of max_iter: 1000\n",
      "iteration: 119 of max_iter: 1000\n",
      "iteration: 120 of max_iter: 1000, perplexity: 7510.6991\n",
      "iteration: 121 of max_iter: 1000\n",
      "iteration: 122 of max_iter: 1000\n",
      "iteration: 123 of max_iter: 1000\n",
      "iteration: 124 of max_iter: 1000\n",
      "iteration: 125 of max_iter: 1000, perplexity: 7504.3721\n",
      "iteration: 126 of max_iter: 1000\n",
      "iteration: 127 of max_iter: 1000\n",
      "iteration: 128 of max_iter: 1000\n",
      "iteration: 129 of max_iter: 1000\n",
      "iteration: 130 of max_iter: 1000, perplexity: 7494.7169\n",
      "iteration: 131 of max_iter: 1000\n",
      "iteration: 132 of max_iter: 1000\n",
      "iteration: 133 of max_iter: 1000\n",
      "iteration: 134 of max_iter: 1000\n",
      "iteration: 135 of max_iter: 1000, perplexity: 7485.9317\n",
      "iteration: 136 of max_iter: 1000\n",
      "iteration: 137 of max_iter: 1000\n",
      "iteration: 138 of max_iter: 1000\n",
      "iteration: 139 of max_iter: 1000\n",
      "iteration: 140 of max_iter: 1000, perplexity: 7481.6973\n",
      "iteration: 141 of max_iter: 1000\n",
      "iteration: 142 of max_iter: 1000\n",
      "iteration: 143 of max_iter: 1000\n",
      "iteration: 144 of max_iter: 1000\n",
      "iteration: 145 of max_iter: 1000, perplexity: 7471.2701\n",
      "iteration: 146 of max_iter: 1000\n",
      "iteration: 147 of max_iter: 1000\n",
      "iteration: 148 of max_iter: 1000\n",
      "iteration: 149 of max_iter: 1000\n",
      "iteration: 150 of max_iter: 1000, perplexity: 7468.0036\n",
      "iteration: 151 of max_iter: 1000\n",
      "iteration: 152 of max_iter: 1000\n",
      "iteration: 153 of max_iter: 1000\n",
      "iteration: 154 of max_iter: 1000\n",
      "iteration: 155 of max_iter: 1000, perplexity: 7464.2803\n",
      "iteration: 156 of max_iter: 1000\n",
      "iteration: 157 of max_iter: 1000\n",
      "iteration: 158 of max_iter: 1000\n",
      "iteration: 159 of max_iter: 1000\n",
      "iteration: 160 of max_iter: 1000, perplexity: 7461.0599\n",
      "iteration: 161 of max_iter: 1000\n",
      "iteration: 162 of max_iter: 1000\n",
      "iteration: 163 of max_iter: 1000\n",
      "iteration: 164 of max_iter: 1000\n",
      "iteration: 165 of max_iter: 1000, perplexity: 7455.9701\n",
      "iteration: 166 of max_iter: 1000\n",
      "iteration: 167 of max_iter: 1000\n",
      "iteration: 168 of max_iter: 1000\n",
      "iteration: 169 of max_iter: 1000\n",
      "iteration: 170 of max_iter: 1000, perplexity: 7451.5733\n",
      "iteration: 171 of max_iter: 1000\n",
      "iteration: 172 of max_iter: 1000\n",
      "iteration: 173 of max_iter: 1000\n",
      "iteration: 174 of max_iter: 1000\n",
      "iteration: 175 of max_iter: 1000, perplexity: 7450.0473\n",
      "iteration: 176 of max_iter: 1000\n",
      "iteration: 177 of max_iter: 1000\n",
      "iteration: 178 of max_iter: 1000\n",
      "iteration: 179 of max_iter: 1000\n",
      "iteration: 180 of max_iter: 1000, perplexity: 7447.7227\n",
      "iteration: 181 of max_iter: 1000\n",
      "iteration: 182 of max_iter: 1000\n",
      "iteration: 183 of max_iter: 1000\n",
      "iteration: 184 of max_iter: 1000\n",
      "iteration: 185 of max_iter: 1000, perplexity: 7445.4231\n",
      "iteration: 186 of max_iter: 1000\n",
      "iteration: 187 of max_iter: 1000\n",
      "iteration: 188 of max_iter: 1000\n",
      "iteration: 189 of max_iter: 1000\n",
      "iteration: 190 of max_iter: 1000, perplexity: 7444.5268\n",
      "iteration: 191 of max_iter: 1000\n",
      "iteration: 192 of max_iter: 1000\n",
      "iteration: 193 of max_iter: 1000\n",
      "iteration: 194 of max_iter: 1000\n",
      "iteration: 195 of max_iter: 1000, perplexity: 7444.2944\n",
      "iteration: 196 of max_iter: 1000\n",
      "iteration: 197 of max_iter: 1000\n",
      "iteration: 198 of max_iter: 1000\n",
      "iteration: 199 of max_iter: 1000\n",
      "iteration: 200 of max_iter: 1000, perplexity: 7443.4757\n",
      "iteration: 201 of max_iter: 1000\n",
      "iteration: 202 of max_iter: 1000\n",
      "iteration: 203 of max_iter: 1000\n",
      "iteration: 204 of max_iter: 1000\n",
      "iteration: 205 of max_iter: 1000, perplexity: 7440.8517\n",
      "iteration: 206 of max_iter: 1000\n",
      "iteration: 207 of max_iter: 1000\n",
      "iteration: 208 of max_iter: 1000\n",
      "iteration: 209 of max_iter: 1000\n",
      "iteration: 210 of max_iter: 1000, perplexity: 7439.7978\n",
      "iteration: 211 of max_iter: 1000\n",
      "iteration: 212 of max_iter: 1000\n",
      "iteration: 213 of max_iter: 1000\n",
      "iteration: 214 of max_iter: 1000\n",
      "iteration: 215 of max_iter: 1000, perplexity: 7438.8067\n",
      "iteration: 216 of max_iter: 1000\n",
      "iteration: 217 of max_iter: 1000\n",
      "iteration: 218 of max_iter: 1000\n",
      "iteration: 219 of max_iter: 1000\n",
      "iteration: 220 of max_iter: 1000, perplexity: 7436.0878\n",
      "iteration: 221 of max_iter: 1000\n",
      "iteration: 222 of max_iter: 1000\n",
      "iteration: 223 of max_iter: 1000\n",
      "iteration: 224 of max_iter: 1000\n",
      "iteration: 225 of max_iter: 1000, perplexity: 7435.1799\n",
      "iteration: 226 of max_iter: 1000\n",
      "iteration: 227 of max_iter: 1000\n"
     ]
    },
    {
     "name": "stdout",
     "output_type": "stream",
     "text": [
      "iteration: 228 of max_iter: 1000\n",
      "iteration: 229 of max_iter: 1000\n",
      "iteration: 230 of max_iter: 1000, perplexity: 7433.7072\n",
      "iteration: 231 of max_iter: 1000\n",
      "iteration: 232 of max_iter: 1000\n",
      "iteration: 233 of max_iter: 1000\n",
      "iteration: 234 of max_iter: 1000\n",
      "iteration: 235 of max_iter: 1000, perplexity: 7433.6962\n"
     ]
    },
    {
     "data": {
      "text/plain": [
       "LatentDirichletAllocation(batch_size=128, doc_topic_prior=10, evaluate_every=5,\n",
       "                          learning_decay=0.7, learning_method='batch',\n",
       "                          learning_offset=10.0, max_doc_update_iter=100,\n",
       "                          max_iter=1000, mean_change_tol=0.001, n_components=8,\n",
       "                          n_jobs=None, perp_tol=0.1, random_state=0,\n",
       "                          topic_word_prior=0.001, total_samples=1000000.0,\n",
       "                          verbose=1)"
      ]
     },
     "execution_count": 42,
     "metadata": {},
     "output_type": "execute_result"
    }
   ],
   "source": [
    "# LDA\n",
    "lda = LatentDirichletAllocation(n_components=8, random_state=0, verbose=1, topic_word_prior=0.001,\n",
    "                                doc_topic_prior=10, max_iter=1000, learning_method='batch', evaluate_every=5)\n",
    "lda.fit(overall_ngrams)"
   ]
  },
  {
   "cell_type": "code",
   "execution_count": 55,
   "metadata": {
    "scrolled": true
   },
   "outputs": [
    {
     "name": "stdout",
     "output_type": "stream",
     "text": [
      "Top 10 words per topic:\n",
      "0\n",
      "['help', 'families', 'future', 'take', 'energy', 'right', 'economy', 'need', 'jobs', 'work']\n",
      "1\n",
      "['democracy', 'help', 'women', 'men', 'children', 'free', 'great', 'good', 'freedom', 'security']\n",
      "2\n",
      "['mass', 'cause', 'saddam', 'regime', 'citizens', 'terrorists', 'terrorist', 'terror', 'war', 'weapons']\n",
      "3\n",
      "['senator', 'small', 'vote', 'social', 'change', 'plan', 'clear', 'sure', 'iraq', 'four']\n",
      "4\n",
      "['back', 'stand', 'go', 'never', 'schools', 'see', 'today', 'health', 'time', 'care']\n",
      "5\n",
      "['east', 'al', 'war', 'qaida', 'peace', 'trust', 'troops', 'forces', 'iraqi', 'iraq']\n",
      "6\n",
      "['helping', 'meeting', 'hiv', 'aids', 'visit', 'malaria', 'threat', 'weapons', 'program', 'africa']\n",
      "7\n",
      "['high', 'home', 'hard', 'working', 'next', 'education', 'change', 'businesses', 'tax', 'job']\n"
     ]
    }
   ],
   "source": [
    "# Again, looking at the top words per topic\n",
    "\n",
    "print('Top 10 words per topic:')\n",
    "for topic in range(lda.components_.shape[0]):\n",
    "    print(topic)\n",
    "    ngram_ranks = np.argsort(np.array(lda.components_[topic, :]))\n",
    "    print([vocabulary[d] for d in ngram_ranks[-10:]])\n",
    "#     print([vocabulary[d] + str(lda.components_[topic, d])for d in ngram_ranks[-10:]])  # Debugging\n"
   ]
  },
  {
   "cell_type": "markdown",
   "metadata": {},
   "source": [
    "*The topics here do seem to be a little more specific, with themes on education emerging as well as more nuanced versions of the military themes.*"
   ]
  },
  {
   "cell_type": "code",
   "execution_count": 54,
   "metadata": {
    "scrolled": true
   },
   "outputs": [
    {
     "name": "stdout",
     "output_type": "stream",
     "text": [
      "Topic scores per document:\n",
      "/Users/graeme/presidents/data/Bush_1.txt\n",
      "▁▁▁█▂▁▁▁\n",
      "[0.04747496 0.05264536 0.0159585  0.69529543 0.08688326 0.02866021\n",
      " 0.01405515 0.05902713]\n",
      "/Users/graeme/presidents/data/Bush_10.txt\n",
      "▁▂▃▂▁▅▁█\n",
      "[0.03994799 0.08489507 0.12573101 0.09192809 0.0250947  0.23810897\n",
      " 0.01382904 0.38046513]\n",
      "/Users/graeme/presidents/data/Bush_11.txt\n",
      "▁▂▃▂▁▆▁█\n",
      "[0.04944795 0.05927912 0.11461616 0.05051991 0.0229935  0.2741645\n",
      " 0.02234019 0.40663867]\n",
      "/Users/graeme/presidents/data/Bush_12.txt\n",
      "▁▁▁▁▁█▁▂\n",
      "[0.04180418 0.05650407 0.03651846 0.03700005 0.02792591 0.67362049\n",
      " 0.01323087 0.11339597]\n",
      "/Users/graeme/presidents/data/Bush_2.txt\n",
      "▂▂▂█▂▂▁▇\n",
      "[0.05527602 0.05943305 0.08418435 0.34508784 0.05438732 0.07273624\n",
      " 0.01539402 0.31350116]\n",
      "/Users/graeme/presidents/data/Bush_3.txt\n",
      "▁▁▁█▂▁▁▁\n",
      "[0.04672438 0.06163406 0.01232544 0.7694272  0.06916431 0.01402904\n",
      " 0.01146019 0.01523538]\n",
      "/Users/graeme/presidents/data/Bush_4.txt\n",
      "▁▂█▁▁▃▁▁\n",
      "[0.03019614 0.066566   0.60479767 0.04712382 0.02789977 0.17927467\n",
      " 0.02548249 0.01865943]\n",
      "/Users/graeme/presidents/data/Bush_5.txt\n",
      "▁▂▃▁▁▃▁█\n",
      "[0.02106978 0.08996121 0.13907768 0.05200176 0.02000972 0.16964972\n",
      " 0.02393676 0.48429337]\n",
      "/Users/graeme/presidents/data/Bush_6.txt\n",
      "▁▁▁▁▁▁█▄\n",
      "[0.02792849 0.02747895 0.0333824  0.04257251 0.04497995 0.03777217\n",
      " 0.5200628  0.26582272]\n",
      "/Users/graeme/presidents/data/Bush_7.txt\n",
      "▁▂█▂▁▁▁▂\n",
      "[0.04282057 0.07467424 0.59913573 0.06922755 0.0279832  0.02913011\n",
      " 0.02509429 0.1319343 ]\n",
      "/Users/graeme/presidents/data/Bush_8.txt\n",
      "▁▁█▁▁▄▁▂\n",
      "[0.03925262 0.04751929 0.48183366 0.04484692 0.0299151  0.23616218\n",
      " 0.02542558 0.09504465]\n",
      "/Users/graeme/presidents/data/Bush_9.txt\n",
      "▂▂▄▂▁▄▁█\n",
      "[0.0496269  0.06236026 0.17968674 0.08517132 0.03706977 0.18207763\n",
      " 0.01880362 0.38520376]\n",
      "/Users/graeme/presidents/data/Obama_1.txt\n",
      "▂▁▄▂▂▁▁█\n",
      "[0.08372431 0.04055898 0.22076095 0.06926202 0.06827397 0.05959884\n",
      " 0.03607843 0.42174249]\n",
      "/Users/graeme/presidents/data/Obama_10.txt\n",
      "▂▁▁▁▁▁▁█\n",
      "[0.07998755 0.03434948 0.04833659 0.02821107 0.03463741 0.02971819\n",
      " 0.02543085 0.71932887]\n",
      "/Users/graeme/presidents/data/Obama_11.txt\n",
      "▂▁▁▁▁▁▁█\n",
      "[0.07991485 0.03624286 0.01770172 0.05017184 0.03877509 0.05394112\n",
      " 0.02041343 0.70283908]\n",
      "/Users/graeme/presidents/data/Obama_12.txt\n",
      "▂▁▁▁▁▁▁█\n",
      "[0.07718911 0.03077306 0.05123378 0.04508198 0.04018867 0.07133693\n",
      " 0.02846715 0.65572933]\n",
      "/Users/graeme/presidents/data/Obama_2.txt\n",
      "▂▁▁▂▂▁▁█\n",
      "[0.08288753 0.03084131 0.02997415 0.10574845 0.06468743 0.01607615\n",
      " 0.02225411 0.64753085]\n",
      "/Users/graeme/presidents/data/Obama_3.txt\n",
      "▁▁▁▁▃▁▁█\n",
      "[0.05062619 0.02919643 0.02730912 0.05688381 0.17390586 0.04017381\n",
      " 0.03031428 0.5915905 ]\n",
      "/Users/graeme/presidents/data/Obama_4.txt\n",
      "▁▁▂▁▁▂▂█\n",
      "[0.03972563 0.04525614 0.07713012 0.03299635 0.02835369 0.09056474\n",
      " 0.08220017 0.60377316]\n",
      "/Users/graeme/presidents/data/Obama_5.txt\n",
      "▁▁▂▂▁█▁▂\n",
      "[0.02598767 0.02882495 0.0825239  0.10134445 0.02942771 0.57868097\n",
      " 0.02652883 0.12668152]\n",
      "/Users/graeme/presidents/data/Obama_6.txt\n",
      "▁▁▁▁▁▁█▁\n",
      "[0.05382035 0.02963865 0.06808723 0.02714835 0.03486459 0.04872108\n",
      " 0.71104667 0.02667308]\n",
      "/Users/graeme/presidents/data/Obama_7.txt\n",
      "▂▁▁▁▁▁▁█\n",
      "[0.08459077 0.02368152 0.02648894 0.03365649 0.03466819 0.05353294\n",
      " 0.01676401 0.72661714]\n",
      "/Users/graeme/presidents/data/Obama_8.txt\n",
      "▂▁▁▁▁▁▁█\n",
      "[0.07362908 0.0241145  0.02729726 0.02857303 0.0415349  0.05311146\n",
      " 0.01939588 0.7323439 ]\n",
      "/Users/graeme/presidents/data/Obama_9.txt\n",
      "▂▁▁▁▁▁▁█\n",
      "[0.07666476 0.0247635  0.01943768 0.03007682 0.03226544 0.03255696\n",
      " 0.00973371 0.77450114]\n"
     ]
    }
   ],
   "source": [
    "# And again the distribution of topics over documents, visualised with sparklines\n",
    "\n",
    "doc_scores = lda.transform(overall_ngrams)\n",
    "print('Topic scores per document:')\n",
    "for doc in range(doc_scores.shape[0]):\n",
    "    print(overall_list[doc])\n",
    "    for line in sparklines(doc_scores[doc, :]):\n",
    "        print(line)\n",
    "    print(doc_scores[doc, :])"
   ]
  },
  {
   "cell_type": "markdown",
   "metadata": {},
   "source": [
    "*Here we do see more mixing of topics in speeches, with the minor components generally many orders of magnitude bigger than with the NMF model. So it looks like the choice of priors has had the desired effect.*\n",
    "\n",
    "*The issue with both these models is that they require a lot of tweaking of parameters and subjective evaluation of results. We could however, do some hyper-parameter search, validating with perplexity on a held out set of documents to go about this in a more robust fashion, but that would be a fairly lenghty process so I'll leave that for further work.*"
   ]
  },
  {
   "cell_type": "markdown",
   "metadata": {},
   "source": [
    "## Discussion\n",
    "\n",
    "Given the clear differences in style, values and topical subject matter, it is perhaps not surprising that it is quite easy to detect which of the two politicians is speaking from a simple word frequency model. Further improvement from the 92% accuracy is likely possible by engaging more complex sequential methods. \n",
    "\n",
    "The BERT model developed at google, for example, utilises several ideas which have proved powerful in recent years, such as RNNs, Attention and relational inductive biases (combined in the Transformer architecture) as well as deep bidirectional context. The base model can be fine tuned to give best in class performance on a variety of natural language processing tasks.\n",
    "\n",
    "This could be an interesting avenue for topic detection as well, with the opportunity to utilise both the attention layers and the word embeddings. \n",
    "\n",
    "As far as improving the models used above goes, there are some alternative algorithms which could give better results, including online learning for LDA. A Heirarchical Dirichlet Process model could learn the number of topics automatically (within a given range). It's also possible to incorporate Bayesian estimates of $\\alpha$, to optimise the parameter at each iteration.\n",
    "\n",
    "For NMF, different initialisation strategies, solvers, stopping conditions and losses could be tried. "
   ]
  },
  {
   "cell_type": "code",
   "execution_count": null,
   "metadata": {},
   "outputs": [],
   "source": []
  }
 ],
 "metadata": {
  "kernelspec": {
   "display_name": "Python 3",
   "language": "python",
   "name": "python3"
  }
 },
 "nbformat": 4,
 "nbformat_minor": 2
}
